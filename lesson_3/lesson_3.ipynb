{
 "cells": [
  {
   "attachments": {},
   "cell_type": "markdown",
   "metadata": {},
   "source": [
    "# Learning Markov Decision Process (MDP) Algorithm with the MDPToolBox Python Package\n",
    "\n",
    "The MDPToolBox can be installed using pip"
   ]
  },
  {
   "cell_type": "code",
   "execution_count": 3,
   "metadata": {},
   "outputs": [
    {
     "name": "stdout",
     "output_type": "stream",
     "text": [
      "Collecting pymdptoolbox\n",
      "  Downloading pymdptoolbox-4.0-b3.zip (29 kB)\n",
      "  Preparing metadata (setup.py) ... \u001b[?25ldone\n",
      "\u001b[?25hRequirement already satisfied: numpy in /opt/anaconda3/envs/pangeo/lib/python3.9/site-packages (from pymdptoolbox) (1.23.1)\n",
      "Requirement already satisfied: scipy in /opt/anaconda3/envs/pangeo/lib/python3.9/site-packages (from pymdptoolbox) (1.9.0)\n",
      "Building wheels for collected packages: pymdptoolbox\n",
      "  Building wheel for pymdptoolbox (setup.py) ... \u001b[?25ldone\n",
      "\u001b[?25h  Created wheel for pymdptoolbox: filename=pymdptoolbox-4.0b3-py3-none-any.whl size=25658 sha256=9dcb6d3077142ba2aa8fd8c1715680fb0fffdc284523335c3e91e447497efbbb\n",
      "  Stored in directory: /Users/croppers/Library/Caches/pip/wheels/e9/cd/97/2269d5ad0730978476c02fcb02383c82055c99e1ede6ba15cd\n",
      "Successfully built pymdptoolbox\n",
      "Installing collected packages: pymdptoolbox\n",
      "Successfully installed pymdptoolbox-4.0b3\n"
     ]
    }
   ],
   "source": [
    "# ! pip install pymdptoolbox"
   ]
  },
  {
   "cell_type": "code",
   "execution_count": 45,
   "metadata": {},
   "outputs": [],
   "source": [
    "import mdptoolbox.example\n",
    "import mdptoolbox.mdp\n",
    "import numpy as np"
   ]
  },
  {
   "attachments": {},
   "cell_type": "markdown",
   "metadata": {},
   "source": [
    "## Forest Management Example\n",
    "* Trees can be either young, middle-aged, or old (states = 0, 1, 2)\n",
    "* Each year, the trees get one stage older (S+1).\n",
    "* Each year, there is a 10% chance that the whole forest burns down!\n",
    "* If the forest burns down, you get nothing.\n",
    "* If you cut down the trees, you get 0 points for a young one, 1 point for a middle-aged one, and 2 points for an old one.\n",
    "* If the forest reaches its oldest state, and you do not cut, you will receive 4 points!\n",
    "\n",
    "What is the best strategy, given these facts?"
   ]
  },
  {
   "cell_type": "code",
   "execution_count": 12,
   "metadata": {},
   "outputs": [],
   "source": [
    "# inputs\n",
    "''' \n",
    "    S  : is the number of states (in this example, the different possible ages of the forest)\n",
    "    r1 : is the reward that you get when you 'wait' and the forest is in its oldest state\n",
    "    r2 : is the reward that you get when you 'cut' the trees and the forest is in its oldest state\n",
    "    p  : is the probability of a wildfire occurrence\n",
    "'''\n",
    "\n",
    "# outputs\n",
    "'''\n",
    "    P : the transition probability matrix, a numpy array of shape (A, S, S) where A is the possible actions\n",
    "    and S is the possible states\n",
    "\n",
    "    R : the reward matrix of shape (S, A)\n",
    "'''\n",
    "P, R = mdptoolbox.example.forest(S=3, r1=4, r2=2, p=0.1, is_sparse=False)"
   ]
  },
  {
   "attachments": {},
   "cell_type": "markdown",
   "metadata": {},
   "source": [
    "Exploring the probability transition matrix"
   ]
  },
  {
   "cell_type": "code",
   "execution_count": 20,
   "metadata": {},
   "outputs": [
    {
     "data": {
      "text/plain": [
       "array([[0.1, 0.9, 0. ],\n",
       "       [0.1, 0. , 0.9],\n",
       "       [0.1, 0. , 0.9]])"
      ]
     },
     "execution_count": 20,
     "metadata": {},
     "output_type": "execute_result"
    }
   ],
   "source": [
    "P[0] # this is the probability transition matrix if the action 'wait' is chosen"
   ]
  },
  {
   "cell_type": "code",
   "execution_count": 21,
   "metadata": {},
   "outputs": [
    {
     "name": "stdout",
     "output_type": "stream",
     "text": [
      "0.9\n"
     ]
    }
   ],
   "source": [
    "'''\n",
    "ex: what is the probability that a forest in its youngest state\n",
    " will advance to the next oldest, if we wait?\n",
    "'''\n",
    "print(P[0][0][1])"
   ]
  },
  {
   "cell_type": "code",
   "execution_count": 22,
   "metadata": {},
   "outputs": [
    {
     "name": "stdout",
     "output_type": "stream",
     "text": [
      "0.1\n"
     ]
    }
   ],
   "source": [
    "'''\n",
    "ex: what is the probability that a forest in its oldest state\n",
    " will burn down, if we wait?\n",
    "'''\n",
    "print(P[0][2][0])"
   ]
  },
  {
   "cell_type": "markdown",
   "metadata": {},
   "source": [
    "Exploring the rewards matrix"
   ]
  },
  {
   "cell_type": "code",
   "execution_count": 27,
   "metadata": {},
   "outputs": [
    {
     "data": {
      "text/plain": [
       "array([[0., 0.],\n",
       "       [0., 1.],\n",
       "       [4., 2.]])"
      ]
     },
     "execution_count": 27,
     "metadata": {},
     "output_type": "execute_result"
    }
   ],
   "source": [
    "R"
   ]
  },
  {
   "cell_type": "code",
   "execution_count": 31,
   "metadata": {},
   "outputs": [
    {
     "data": {
      "text/plain": [
       "4.0"
      ]
     },
     "execution_count": 31,
     "metadata": {},
     "output_type": "execute_result"
    }
   ],
   "source": [
    "# what reward do we get if we choose to wait, and the forest is in its oldest state?\n",
    "np.sum(np.multiply(R.T[0], [0, 0, 1]))"
   ]
  },
  {
   "cell_type": "code",
   "execution_count": 43,
   "metadata": {},
   "outputs": [
    {
     "data": {
      "text/plain": [
       "0.0"
      ]
     },
     "execution_count": 43,
     "metadata": {},
     "output_type": "execute_result"
    }
   ],
   "source": [
    "# what reward do we get if we choose to wait, and the forest is in any other state?\n",
    "np.sum(np.multiply(R.T[0], [1, 1, 0]))"
   ]
  },
  {
   "cell_type": "code",
   "execution_count": 37,
   "metadata": {},
   "outputs": [
    {
     "data": {
      "text/plain": [
       "2.0"
      ]
     },
     "execution_count": 37,
     "metadata": {},
     "output_type": "execute_result"
    }
   ],
   "source": [
    "# what reward do we get if we choose to cut, and the forest is in its oldest state?\n",
    "np.sum(np.multiply(R.T[1], [0, 0, 1]))"
   ]
  },
  {
   "cell_type": "code",
   "execution_count": 42,
   "metadata": {},
   "outputs": [
    {
     "data": {
      "text/plain": [
       "1.0"
      ]
     },
     "execution_count": 42,
     "metadata": {},
     "output_type": "execute_result"
    }
   ],
   "source": [
    "# what reward do we get if we choose to cut, and the forest is in its second youngest state?\n",
    "np.sum(np.multiply(R.T[1], [0, 1, 0]))"
   ]
  },
  {
   "attachments": {},
   "cell_type": "markdown",
   "metadata": {},
   "source": [
    "## Finding the optimal \"policy\""
   ]
  },
  {
   "cell_type": "code",
   "execution_count": 106,
   "metadata": {},
   "outputs": [
    {
     "data": {
      "text/plain": [
       "(0, 1, 1)"
      ]
     },
     "execution_count": 106,
     "metadata": {},
     "output_type": "execute_result"
    }
   ],
   "source": [
    "model = mdptoolbox.mdp.QLearning(P, R, discount = 0.1)\n",
    "model.run()\n",
    "model.policy"
   ]
  },
  {
   "cell_type": "code",
   "execution_count": 50,
   "metadata": {},
   "outputs": [
    {
     "data": {
      "text/plain": [
       "0"
      ]
     },
     "execution_count": 50,
     "metadata": {},
     "output_type": "execute_result"
    }
   ],
   "source": [
    "# should we wait (0) or cut (1) in the youngest state?\n",
    "model.policy[0]"
   ]
  },
  {
   "cell_type": "code",
   "execution_count": 53,
   "metadata": {},
   "outputs": [
    {
     "data": {
      "text/plain": [
       "1"
      ]
     },
     "execution_count": 53,
     "metadata": {},
     "output_type": "execute_result"
    }
   ],
   "source": [
    "# should we wait (0) or cut (1) in the second youngest state?\n",
    "model.policy[1]"
   ]
  },
  {
   "cell_type": "code",
   "execution_count": 52,
   "metadata": {},
   "outputs": [
    {
     "data": {
      "text/plain": [
       "0"
      ]
     },
     "execution_count": 52,
     "metadata": {},
     "output_type": "execute_result"
    }
   ],
   "source": [
    "# should we wait (0) or cut (1) in the oldest state?\n",
    "model.policy[2]"
   ]
  },
  {
   "attachments": {},
   "cell_type": "markdown",
   "metadata": {},
   "source": [
    "## applying a discount to our model.\n",
    "\n",
    "(what is a discount?)"
   ]
  },
  {
   "cell_type": "code",
   "execution_count": 108,
   "metadata": {},
   "outputs": [
    {
     "data": {
      "text/plain": [
       "(0, 0, 0)"
      ]
     },
     "execution_count": 108,
     "metadata": {},
     "output_type": "execute_result"
    }
   ],
   "source": [
    "# 99% discount says that it is very likely that the game will continue into the future (long-term strategy)\n",
    "model = mdptoolbox.mdp.QLearning(P, R, discount = 0.99)\n",
    "model.run()\n",
    "model.policy"
   ]
  },
  {
   "cell_type": "code",
   "execution_count": 109,
   "metadata": {},
   "outputs": [
    {
     "data": {
      "text/plain": [
       "(0, 1, 0)"
      ]
     },
     "execution_count": 109,
     "metadata": {},
     "output_type": "execute_result"
    }
   ],
   "source": [
    "# 1% discount says that it is very likely the game will not continue in the future (short-term)\n",
    "model = mdptoolbox.mdp.QLearning(P, R, discount = 0.01)\n",
    "model.run()\n",
    "model.policy"
   ]
  },
  {
   "cell_type": "code",
   "execution_count": null,
   "metadata": {},
   "outputs": [],
   "source": []
  }
 ],
 "metadata": {
  "kernelspec": {
   "display_name": "pangeo",
   "language": "python",
   "name": "python3"
  },
  "language_info": {
   "codemirror_mode": {
    "name": "ipython",
    "version": 3
   },
   "file_extension": ".py",
   "mimetype": "text/x-python",
   "name": "python",
   "nbconvert_exporter": "python",
   "pygments_lexer": "ipython3",
   "version": "3.9.13"
  },
  "orig_nbformat": 4,
  "vscode": {
   "interpreter": {
    "hash": "1170864c23df5495c3554e0b6a3b33d0b398877dfbca5f383730d9708beca08d"
   }
  }
 },
 "nbformat": 4,
 "nbformat_minor": 2
}
