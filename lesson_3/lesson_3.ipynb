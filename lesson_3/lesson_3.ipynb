{
 "cells": [
  {
   "attachments": {},
   "cell_type": "markdown",
   "metadata": {},
   "source": [
    "# Learning Markov Decision Process (MDP) Algorithm with the MDPToolBox Python Package\n",
    "\n",
    "The MDPToolBox can be installed using pip"
   ]
  },
  {
   "cell_type": "code",
   "execution_count": 3,
   "metadata": {},
   "outputs": [
    {
     "name": "stdout",
     "output_type": "stream",
     "text": [
      "Collecting pymdptoolbox\n",
      "  Downloading pymdptoolbox-4.0-b3.zip (29 kB)\n",
      "  Preparing metadata (setup.py) ... \u001b[?25ldone\n",
      "\u001b[?25hRequirement already satisfied: numpy in /opt/anaconda3/envs/pangeo/lib/python3.9/site-packages (from pymdptoolbox) (1.23.1)\n",
      "Requirement already satisfied: scipy in /opt/anaconda3/envs/pangeo/lib/python3.9/site-packages (from pymdptoolbox) (1.9.0)\n",
      "Building wheels for collected packages: pymdptoolbox\n",
      "  Building wheel for pymdptoolbox (setup.py) ... \u001b[?25ldone\n",
      "\u001b[?25h  Created wheel for pymdptoolbox: filename=pymdptoolbox-4.0b3-py3-none-any.whl size=25658 sha256=9dcb6d3077142ba2aa8fd8c1715680fb0fffdc284523335c3e91e447497efbbb\n",
      "  Stored in directory: /Users/croppers/Library/Caches/pip/wheels/e9/cd/97/2269d5ad0730978476c02fcb02383c82055c99e1ede6ba15cd\n",
      "Successfully built pymdptoolbox\n",
      "Installing collected packages: pymdptoolbox\n",
      "Successfully installed pymdptoolbox-4.0b3\n"
     ]
    }
   ],
   "source": [
    "# ! pip install pymdptoolbox"
   ]
  },
  {
   "cell_type": "code",
   "execution_count": 1,
   "metadata": {},
   "outputs": [],
   "source": [
    "import mdptoolbox.example\n",
    "import mdptoolbox.mdp\n",
    "import numpy as np"
   ]
  },
  {
   "attachments": {},
   "cell_type": "markdown",
   "metadata": {},
   "source": [
    "## Forest Management Example\n",
    "* Trees can be either young, middle-aged, or old (states = 0, 1, 2)\n",
    "* Each year, the trees get one stage older (S+1).\n",
    "* Each year, there is a 10% chance that the whole forest burns down!\n",
    "* If the forest burns down, you get nothing.\n",
    "* If you cut down the trees, you get 0 points for a young one, 1 point for a middle-aged one, and 2 points for an old one.\n",
    "* If the forest reaches its oldest state, and you do not cut, you will receive 4 points!\n",
    "\n",
    "What is the best strategy, given these facts?"
   ]
  },
  {
   "cell_type": "code",
   "execution_count": 2,
   "metadata": {},
   "outputs": [],
   "source": [
    "# inputs\n",
    "''' \n",
    "    S  : is the number of states (in this example, the different possible ages of the forest)\n",
    "    r1 : is the reward that you get when you 'wait' and the forest is in its oldest state\n",
    "    r2 : is the reward that you get when you 'cut' the trees and the forest is in its oldest state\n",
    "    p  : is the probability of a wildfire occurrence\n",
    "'''\n",
    "\n",
    "# outputs\n",
    "'''\n",
    "    P : the transition probability matrix, a numpy array of shape (A, S, S) where A is the possible actions\n",
    "    and S is the possible states\n",
    "\n",
    "    R : the reward matrix of shape (S, A)\n",
    "'''\n",
    "P, R = mdptoolbox.example.forest(S=3, r1=4, r2=2, p=0.1, is_sparse=False)"
   ]
  },
  {
   "attachments": {},
   "cell_type": "markdown",
   "metadata": {},
   "source": [
    "Exploring the probability transition matrix"
   ]
  },
  {
   "cell_type": "code",
   "execution_count": 3,
   "metadata": {},
   "outputs": [
    {
     "data": {
      "text/plain": [
       "array([[[0.1, 0.9, 0. ],\n",
       "        [0.1, 0. , 0.9],\n",
       "        [0.1, 0. , 0.9]],\n",
       "\n",
       "       [[1. , 0. , 0. ],\n",
       "        [1. , 0. , 0. ],\n",
       "        [1. , 0. , 0. ]]])"
      ]
     },
     "execution_count": 3,
     "metadata": {},
     "output_type": "execute_result"
    }
   ],
   "source": [
    "P"
   ]
  },
  {
   "cell_type": "code",
   "execution_count": 20,
   "metadata": {},
   "outputs": [
    {
     "data": {
      "text/plain": [
       "array([[0.1, 0.9, 0. ],\n",
       "       [0.1, 0. , 0.9],\n",
       "       [0.1, 0. , 0.9]])"
      ]
     },
     "execution_count": 20,
     "metadata": {},
     "output_type": "execute_result"
    }
   ],
   "source": [
    "P[0] # this is the probability transition matrix if the action 'wait' is chosen"
   ]
  },
  {
   "cell_type": "code",
   "execution_count": 4,
   "metadata": {},
   "outputs": [
    {
     "name": "stdout",
     "output_type": "stream",
     "text": [
      "0.9\n"
     ]
    }
   ],
   "source": [
    "'''\n",
    "ex: what is the probability that a forest in its youngest state\n",
    " will advance to the next oldest, if we wait?\n",
    "'''\n",
    "print(P[0][0][1])"
   ]
  },
  {
   "cell_type": "code",
   "execution_count": 5,
   "metadata": {},
   "outputs": [
    {
     "name": "stdout",
     "output_type": "stream",
     "text": [
      "0.1\n"
     ]
    }
   ],
   "source": [
    "'''\n",
    "ex: what is the probability that a forest in its oldest state\n",
    " will burn down, if we wait?\n",
    "'''\n",
    "print(P[0][2][0])"
   ]
  },
  {
   "attachments": {},
   "cell_type": "markdown",
   "metadata": {},
   "source": [
    "Exploring the rewards matrix. Rewards matrix has shape S x A (S,A). "
   ]
  },
  {
   "cell_type": "code",
   "execution_count": 14,
   "metadata": {},
   "outputs": [
    {
     "data": {
      "text/plain": [
       "array([[0., 0.],\n",
       "       [0., 1.],\n",
       "       [4., 2.]])"
      ]
     },
     "execution_count": 14,
     "metadata": {},
     "output_type": "execute_result"
    }
   ],
   "source": [
    "R"
   ]
  },
  {
   "cell_type": "code",
   "execution_count": 7,
   "metadata": {},
   "outputs": [
    {
     "data": {
      "text/plain": [
       "4.0"
      ]
     },
     "execution_count": 7,
     "metadata": {},
     "output_type": "execute_result"
    }
   ],
   "source": [
    "# what reward do we get if we choose to wait, and the forest is in its oldest state?\n",
    "np.sum(np.multiply(R.T[0], [0, 0, 1]))"
   ]
  },
  {
   "cell_type": "code",
   "execution_count": 8,
   "metadata": {},
   "outputs": [
    {
     "data": {
      "text/plain": [
       "0.0"
      ]
     },
     "execution_count": 8,
     "metadata": {},
     "output_type": "execute_result"
    }
   ],
   "source": [
    "# what reward do we get if we choose to wait, and the forest is in any other state?\n",
    "np.sum(np.multiply(R.T[0], [1, 1, 0]))"
   ]
  },
  {
   "cell_type": "code",
   "execution_count": 9,
   "metadata": {},
   "outputs": [
    {
     "data": {
      "text/plain": [
       "2.0"
      ]
     },
     "execution_count": 9,
     "metadata": {},
     "output_type": "execute_result"
    }
   ],
   "source": [
    "# what reward do we get if we choose to cut, and the forest is in its oldest state?\n",
    "np.sum(np.multiply(R.T[1], [0, 0, 1]))"
   ]
  },
  {
   "cell_type": "code",
   "execution_count": 10,
   "metadata": {},
   "outputs": [
    {
     "data": {
      "text/plain": [
       "1.0"
      ]
     },
     "execution_count": 10,
     "metadata": {},
     "output_type": "execute_result"
    }
   ],
   "source": [
    "# what reward do we get if we choose to cut, and the forest is in its second youngest state?\n",
    "np.sum(np.multiply(R.T[1], [0, 1, 0]))"
   ]
  },
  {
   "attachments": {},
   "cell_type": "markdown",
   "metadata": {},
   "source": [
    "## Finding the optimal \"policy\""
   ]
  },
  {
   "cell_type": "code",
   "execution_count": 16,
   "metadata": {},
   "outputs": [
    {
     "data": {
      "text/plain": [
       "(0, 1, 0)"
      ]
     },
     "execution_count": 16,
     "metadata": {},
     "output_type": "execute_result"
    }
   ],
   "source": [
    "model = mdptoolbox.mdp.QLearning(P, R, discount = 0.1)\n",
    "model.run()\n",
    "model.policy"
   ]
  },
  {
   "cell_type": "code",
   "execution_count": 17,
   "metadata": {},
   "outputs": [
    {
     "data": {
      "text/plain": [
       "0"
      ]
     },
     "execution_count": 17,
     "metadata": {},
     "output_type": "execute_result"
    }
   ],
   "source": [
    "# should we wait (0) or cut (1) in the youngest state?\n",
    "model.policy[0]"
   ]
  },
  {
   "cell_type": "code",
   "execution_count": 18,
   "metadata": {},
   "outputs": [
    {
     "data": {
      "text/plain": [
       "1"
      ]
     },
     "execution_count": 18,
     "metadata": {},
     "output_type": "execute_result"
    }
   ],
   "source": [
    "# should we wait (0) or cut (1) in the second youngest state?\n",
    "model.policy[1]"
   ]
  },
  {
   "cell_type": "code",
   "execution_count": 19,
   "metadata": {},
   "outputs": [
    {
     "data": {
      "text/plain": [
       "0"
      ]
     },
     "execution_count": 19,
     "metadata": {},
     "output_type": "execute_result"
    }
   ],
   "source": [
    "# should we wait (0) or cut (1) in the oldest state?\n",
    "model.policy[2]"
   ]
  },
  {
   "attachments": {},
   "cell_type": "markdown",
   "metadata": {},
   "source": [
    "## applying a discount to our model.\n",
    "\n",
    "(what is a discount?)"
   ]
  },
  {
   "cell_type": "code",
   "execution_count": 108,
   "metadata": {},
   "outputs": [
    {
     "data": {
      "text/plain": [
       "(0, 0, 0)"
      ]
     },
     "execution_count": 108,
     "metadata": {},
     "output_type": "execute_result"
    }
   ],
   "source": [
    "# 99% discount says that it is very likely that the scenario will continue into the future (long-term strategy)\n",
    "model = mdptoolbox.mdp.QLearning(P, R, discount = 0.99)\n",
    "model.run()\n",
    "model.policy"
   ]
  },
  {
   "cell_type": "code",
   "execution_count": 29,
   "metadata": {},
   "outputs": [
    {
     "data": {
      "text/plain": [
       "(0, 0, 0)"
      ]
     },
     "execution_count": 29,
     "metadata": {},
     "output_type": "execute_result"
    }
   ],
   "source": [
    "# 1% discount says that it is very likely the scenario will not continue in the future (short-term)\n",
    "model = mdptoolbox.mdp.QLearning(P, R, discount = 0.5)\n",
    "model.run()\n",
    "model.policy"
   ]
  },
  {
   "cell_type": "code",
   "execution_count": 31,
   "metadata": {},
   "outputs": [
    {
     "data": {
      "text/plain": [
       "(array([[[0.29623307, 0.38232736, 0.01529173, 0.        , 0.30614784],\n",
       "         [0.08358708, 0.26070829, 0.26451947, 0.26651377, 0.12467138],\n",
       "         [0.24033442, 0.21906008, 0.06646432, 0.35323489, 0.12090629],\n",
       "         [1.        , 0.        , 0.        , 0.        , 0.        ],\n",
       "         [1.        , 0.        , 0.        , 0.        , 0.        ]],\n",
       " \n",
       "        [[0.        , 0.        , 0.        , 0.47966524, 0.52033476],\n",
       "         [0.        , 1.        , 0.        , 0.        , 0.        ],\n",
       "         [0.        , 0.        , 0.        , 1.        , 0.        ],\n",
       "         [0.        , 1.        , 0.        , 0.        , 0.        ],\n",
       "         [0.        , 0.        , 0.        , 1.        , 0.        ]],\n",
       " \n",
       "        [[0.        , 1.        , 0.        , 0.        , 0.        ],\n",
       "         [0.        , 0.        , 0.        , 1.        , 0.        ],\n",
       "         [0.1843781 , 0.15139897, 0.12939585, 0.15932813, 0.37549895],\n",
       "         [1.        , 0.        , 0.        , 0.        , 0.        ],\n",
       "         [0.09527014, 0.44934973, 0.45538013, 0.        , 0.        ]],\n",
       " \n",
       "        [[0.        , 0.4388234 , 0.18807544, 0.        , 0.37310115],\n",
       "         [0.63104644, 0.        , 0.        , 0.36895356, 0.        ],\n",
       "         [0.        , 0.        , 0.        , 1.        , 0.        ],\n",
       "         [0.        , 0.        , 0.        , 1.        , 0.        ],\n",
       "         [0.25415224, 0.35379229, 0.29760493, 0.        , 0.09445054]]]),\n",
       " array([[[ 0.87637156, -0.60673287, -0.87442313,  0.        ,\n",
       "           0.1277521 ],\n",
       "         [ 0.3022855 , -0.80163114, -0.86617551, -0.16867818,\n",
       "          -0.75822816],\n",
       "         [ 0.42884098, -0.29572625, -0.35893403, -0.09435221,\n",
       "           0.90324525],\n",
       "         [ 0.86565099,  0.        , -0.        , -0.        ,\n",
       "          -0.        ],\n",
       "         [-0.05159239,  0.        ,  0.        ,  0.        ,\n",
       "           0.        ]],\n",
       " \n",
       "        [[ 0.        ,  0.        ,  0.        , -0.70822992,\n",
       "          -0.17275894],\n",
       "         [ 0.        ,  0.67762818, -0.        ,  0.        ,\n",
       "           0.        ],\n",
       "         [-0.        , -0.        , -0.        , -0.69539666,\n",
       "           0.        ],\n",
       "         [ 0.        , -0.1765588 , -0.        ,  0.        ,\n",
       "           0.        ],\n",
       "         [-0.        , -0.        , -0.        ,  0.07907004,\n",
       "           0.        ]],\n",
       " \n",
       "        [[-0.        ,  0.7186182 ,  0.        , -0.        ,\n",
       "          -0.        ],\n",
       "         [-0.        , -0.        ,  0.        , -0.97777429,\n",
       "          -0.        ],\n",
       "         [ 0.33609002,  0.98457848,  0.38374647, -0.27737219,\n",
       "           0.27207375],\n",
       "         [-0.65448659, -0.        , -0.        , -0.        ,\n",
       "          -0.        ],\n",
       "         [-0.55848752,  0.62685071, -0.24616252, -0.        ,\n",
       "          -0.        ]],\n",
       " \n",
       "        [[ 0.        ,  0.91684799, -0.36185543, -0.        ,\n",
       "           0.43611489],\n",
       "         [-0.58049944,  0.        , -0.        ,  0.92985301,\n",
       "          -0.        ],\n",
       "         [-0.        , -0.        , -0.        , -0.56421244,\n",
       "          -0.        ],\n",
       "         [-0.        , -0.        , -0.        ,  0.42908248,\n",
       "          -0.        ],\n",
       "         [-0.38082778, -0.47547945,  0.02909403,  0.        ,\n",
       "           0.81866477]]]))"
      ]
     },
     "execution_count": 31,
     "metadata": {},
     "output_type": "execute_result"
    }
   ],
   "source": [
    "mdptoolbox.example.rand(S = 5, A = 4)"
   ]
  },
  {
   "cell_type": "code",
   "execution_count": null,
   "metadata": {},
   "outputs": [],
   "source": [
    "len(ec_data)"
   ]
  },
  {
   "cell_type": "code",
   "execution_count": null,
   "metadata": {},
   "outputs": [],
   "source": [
    "ec_data = pd.read_csv('data/emergent_constraint_data.csv').drop('Unnamed: 0', axis=1)\n",
    "\n",
    "# read in the timeseries dataframe\n",
    "timeseries_df = pd.read_csv('data/ts.csv').drop('Unnamed: 0', axis=1)\n",
    "\n",
    "# the columns of the dataframe are the model names\n",
    "model_names = timeseries_df.columns[1:]\n",
    "\n",
    "fig, axs = plt.subplots(1, 2, sharey=True, figsize=(8.5, 4))\n",
    "\n",
    "fig.suptitle('ECS Emergent Relationship (Models Labeled)')\n",
    "axs[0].set_ylabel('ECS (K)')\n",
    "axs[0].set_xlabel(r'$\\psi$ (K)')\n",
    "axs[1].set_xlabel(r'$\\sigma_{b}$ (K/decade)')\n",
    "axs[0].set_xlim((0.05,0.23))\n",
    "axs[0].set_ylim((1.5,5.5))\n",
    "axs[1].set_ylim((1.5,5.5))\n",
    "axs[1].set_xlim((0.11,0.31))\n",
    "\n",
    "alphabet = ['A', 'B', 'C', 'D',\n",
    "            'E', 'F', 'G', 'H',\n",
    "            'I', 'J', 'K', 'L',\n",
    "            'M', 'N', 'O', 'P', \n",
    "            'Q']\n",
    "\n",
    "j = 5.6\n",
    "for i in range(len(ec_data)):\n",
    "    axs[0].text(ec_data['cox'][i],\n",
    "               ec_data['ecs'][i],\n",
    "               alphabet[i])\n",
    "    \n",
    "    axs[1].text(ec_data['sigma'][i],\n",
    "           ec_data['ecs'][i],\n",
    "           alphabet[i])\n",
    "    \n",
    "    axs[1].text(0.35, j, alphabet[i] + ' - '+model_names[i])\n",
    "    j -= 0.3\n",
    "    \n",
    "plt.tight_layout()\n",
    "plt.savefig('figures/figure_s1.png')"
   ]
  },
  {
   "cell_type": "code",
   "execution_count": null,
   "metadata": {},
   "outputs": [],
   "source": [
    "removed_color = '#2738ad'\n",
    "volcano_color = '#de1f1f'\n",
    "\n",
    "ec_data = pd.read_csv('data/emergent_constraint_data.csv').drop('Unnamed: 0', axis=1)\n",
    "ec_data_volcanoes = pd.read_csv('data/emergent_constraint_data_volcanoes.csv').drop('Unnamed: 0', axis=1)\n",
    "fig, axs = plt.subplots(1, 2, figsize = (8.5, 4), sharey=True)\n",
    "axs[0].scatter(ec_data_volcanoes['cox'], ec_data_volcanoes['ecs'], color = volcano_color, marker = '^')\n",
    "axs[0].scatter(ec_data['cox'], ec_data['ecs'], color = removed_color, marker = 'o')\n",
    "\n",
    "for i in range(len(ec_data)):\n",
    "    x_i = ec_data_volcanoes['cox'][i]\n",
    "    y_i = ec_data_volcanoes['ecs'][i]\n",
    "    dx_i = x_i - ec_data['cox'][i]\n",
    "    dy_i = 0\n",
    "    axs[0].arrow(x_i, y_i, -1*dx_i, dy_i, linewidth = 0.05)\n",
    "\n",
    "axs[0].text(0.1, 4.5, 'r=0.63', color = removed_color)\n",
    "axs[0].text(0.25, 2.5, 'r=0.52', color = volcano_color)\n",
    "\n",
    "axs[1].scatter(ec_data_volcanoes['sigma'], ec_data_volcanoes['ecs'], color = volcano_color, marker = '^', label = 'unadulterated\\nseries')\n",
    "axs[1].scatter(ec_data['sigma'], ec_data['ecs'], color = removed_color, marker = 'o', label = 'major eruptions\\nremoved')\n",
    "\n",
    "for i in range(len(ec_data)):\n",
    "    x_i = ec_data_volcanoes['sigma'][i]\n",
    "    y_i = ec_data_volcanoes['ecs'][i]\n",
    "    dx_i = x_i - ec_data['sigma'][i]\n",
    "    dy_i = 0\n",
    "    axs[1].arrow(x_i, y_i, -1*dx_i, dy_i, linewidth = 0.05)\n",
    "\n",
    "axs[1].text(0.15, 4.5, 'r=0.50', color = removed_color)\n",
    "axs[1].text(0.3, 2.5, 'r=0.41', color = volcano_color)\n",
    "\n",
    "slope, intercept, r, p, se = linregress(ec_data_volcanoes['cox'], ec_data_volcanoes['ecs'])\n",
    "slope, intercept, r, p, se = linregress(ec_data['cox'], ec_data['ecs'])\n",
    "slope, intercept, r, p, se = linregress(ec_data_volcanoes['sigma'], ec_data_volcanoes['ecs'])\n",
    "slope, intercept, r, p, se = linregress(ec_data['sigma'], ec_data['ecs'])\n",
    "\n",
    "fig.suptitle('Effect of Major Volcanic Forcing on ECS Emergent Relationship')\n",
    "\n",
    "axs[1].legend(loc = (1.05, 0), edgecolor = 'black', framealpha = 1)\n",
    "\n",
    "axs[0].set_ylabel('ECS (K)')\n",
    "axs[0].set_xlabel(r'$\\psi$ (K)')\n",
    "axs[1].set_xlabel(r'$\\sigma_{b}$ (K/decade)')\n",
    "\n",
    "plt.tight_layout()"
   ]
  }
 ],
 "metadata": {
  "kernelspec": {
   "display_name": "pangeo",
   "language": "python",
   "name": "python3"
  },
  "language_info": {
   "codemirror_mode": {
    "name": "ipython",
    "version": 3
   },
   "file_extension": ".py",
   "mimetype": "text/x-python",
   "name": "python",
   "nbconvert_exporter": "python",
   "pygments_lexer": "ipython3",
   "version": "3.9.13"
  },
  "orig_nbformat": 4,
  "vscode": {
   "interpreter": {
    "hash": "1170864c23df5495c3554e0b6a3b33d0b398877dfbca5f383730d9708beca08d"
   }
  }
 },
 "nbformat": 4,
 "nbformat_minor": 2
}
